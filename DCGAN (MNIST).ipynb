{
 "cells": [
  {
   "cell_type": "markdown",
   "id": "precise-apollo",
   "metadata": {
    "papermill": {
     "duration": 0.035117,
     "end_time": "2021-04-25T12:31:29.810980",
     "exception": false,
     "start_time": "2021-04-25T12:31:29.775863",
     "status": "completed"
    },
    "tags": []
   },
   "source": [
    "# 0. DCGAN"
   ]
  },
  {
   "cell_type": "markdown",
   "id": "weird-massachusetts",
   "metadata": {
    "papermill": {
     "duration": 0.029273,
     "end_time": "2021-04-25T12:31:29.881025",
     "exception": false,
     "start_time": "2021-04-25T12:31:29.851752",
     "status": "completed"
    },
    "tags": []
   },
   "source": [
    "### Reference\n",
    "- https://github.com/eriklindernoren/PyTorch-GAN/blob/master/implementations/dcgan/dcgan.py\n",
    "- paper : https://arxiv.org/abs/1511.06434"
   ]
  },
  {
   "cell_type": "markdown",
   "id": "palestinian-charles",
   "metadata": {
    "papermill": {
     "duration": 0.030783,
     "end_time": "2021-04-25T12:31:29.941104",
     "exception": false,
     "start_time": "2021-04-25T12:31:29.910321",
     "status": "completed"
    },
    "tags": []
   },
   "source": [
    "# 1. Library Import"
   ]
  },
  {
   "cell_type": "code",
   "execution_count": 1,
   "id": "aggregate-submission",
   "metadata": {
    "execution": {
     "iopub.execute_input": "2021-04-25T12:31:30.019431Z",
     "iopub.status.busy": "2021-04-25T12:31:30.018736Z",
     "iopub.status.idle": "2021-04-25T12:31:39.512860Z",
     "shell.execute_reply": "2021-04-25T12:31:39.511457Z"
    },
    "papermill": {
     "duration": 9.542306,
     "end_time": "2021-04-25T12:31:39.513030",
     "exception": false,
     "start_time": "2021-04-25T12:31:29.970724",
     "status": "completed"
    },
    "tags": []
   },
   "outputs": [
    {
     "name": "stdout",
     "output_type": "stream",
     "text": [
      "Collecting easydict\r\n",
      "  Downloading easydict-1.9.tar.gz (6.4 kB)\r\n",
      "Building wheels for collected packages: easydict\r\n",
      "  Building wheel for easydict (setup.py) ... \u001b[?25l-\b \b\\\b \bdone\r\n",
      "\u001b[?25h  Created wheel for easydict: filename=easydict-1.9-py3-none-any.whl size=6350 sha256=25c9020d22505f0fa9e57ab17e66c6561be38ac240a32c5d44c94842fcb864a4\r\n",
      "  Stored in directory: /root/.cache/pip/wheels/88/96/68/c2be18e7406804be2e593e1c37845f2dd20ac2ce1381ce40b0\r\n",
      "Successfully built easydict\r\n",
      "Installing collected packages: easydict\r\n",
      "Successfully installed easydict-1.9\r\n"
     ]
    }
   ],
   "source": [
    "!pip install easydict"
   ]
  },
  {
   "cell_type": "code",
   "execution_count": 2,
   "id": "operational-dominant",
   "metadata": {
    "_cell_guid": "b1076dfc-b9ad-4769-8c92-a6c4dae69d19",
    "_uuid": "8f2839f25d086af736a60e9eeb907d3b93b6e0e5",
    "execution": {
     "iopub.execute_input": "2021-04-25T12:31:39.562828Z",
     "iopub.status.busy": "2021-04-25T12:31:39.561899Z",
     "iopub.status.idle": "2021-04-25T12:31:41.191406Z",
     "shell.execute_reply": "2021-04-25T12:31:41.190875Z"
    },
    "papermill": {
     "duration": 1.655995,
     "end_time": "2021-04-25T12:31:41.191569",
     "exception": false,
     "start_time": "2021-04-25T12:31:39.535574",
     "status": "completed"
    },
    "tags": []
   },
   "outputs": [],
   "source": [
    "# import argparse\n",
    "import easydict\n",
    "import os\n",
    "import numpy as np\n",
    "import math\n",
    "\n",
    "import torchvision.transforms as transforms\n",
    "from torchvision.utils import save_image\n",
    "\n",
    "from torch.utils.data import DataLoader\n",
    "from torchvision import datasets\n",
    "from torch.autograd import Variable\n",
    "\n",
    "import torch.nn as nn\n",
    "import torch.nn.functional as F\n",
    "import torch\n"
   ]
  },
  {
   "cell_type": "code",
   "execution_count": 3,
   "id": "greek-flash",
   "metadata": {
    "execution": {
     "iopub.execute_input": "2021-04-25T12:31:41.239835Z",
     "iopub.status.busy": "2021-04-25T12:31:41.239045Z",
     "iopub.status.idle": "2021-04-25T12:31:41.241635Z",
     "shell.execute_reply": "2021-04-25T12:31:41.241219Z"
    },
    "papermill": {
     "duration": 0.027964,
     "end_time": "2021-04-25T12:31:41.241745",
     "exception": false,
     "start_time": "2021-04-25T12:31:41.213781",
     "status": "completed"
    },
    "tags": []
   },
   "outputs": [],
   "source": [
    "# make images folder\n",
    "os.makedirs('images', exist_ok = True)"
   ]
  },
  {
   "cell_type": "markdown",
   "id": "catholic-glory",
   "metadata": {
    "papermill": {
     "duration": 0.021758,
     "end_time": "2021-04-25T12:31:41.285434",
     "exception": false,
     "start_time": "2021-04-25T12:31:41.263676",
     "status": "completed"
    },
    "tags": []
   },
   "source": [
    "# 2. Parameter Setting"
   ]
  },
  {
   "cell_type": "code",
   "execution_count": 4,
   "id": "median-ideal",
   "metadata": {
    "execution": {
     "iopub.execute_input": "2021-04-25T12:31:41.334348Z",
     "iopub.status.busy": "2021-04-25T12:31:41.333608Z",
     "iopub.status.idle": "2021-04-25T12:31:41.335873Z",
     "shell.execute_reply": "2021-04-25T12:31:41.336249Z"
    },
    "papermill": {
     "duration": 0.028914,
     "end_time": "2021-04-25T12:31:41.336372",
     "exception": false,
     "start_time": "2021-04-25T12:31:41.307458",
     "status": "completed"
    },
    "tags": []
   },
   "outputs": [],
   "source": [
    "opt = easydict.EasyDict({\"n_epochs\" : 5, \"batch_size\" : 64,\n",
    "                         \"lr\" : 0.0002, \"b1\" : 0.5, \"b2\" : 0.999,\n",
    "                         \"n_cpu\" : 8, \"latent_dim\" : 100,\n",
    "                         \"img_size\" : 32, \"channels\" : 1,\n",
    "                         \"sample_interval\" : 400})"
   ]
  },
  {
   "cell_type": "code",
   "execution_count": 5,
   "id": "labeled-creek",
   "metadata": {
    "execution": {
     "iopub.execute_input": "2021-04-25T12:31:41.382954Z",
     "iopub.status.busy": "2021-04-25T12:31:41.382315Z",
     "iopub.status.idle": "2021-04-25T12:31:41.386021Z",
     "shell.execute_reply": "2021-04-25T12:31:41.385617Z"
    },
    "papermill": {
     "duration": 0.028411,
     "end_time": "2021-04-25T12:31:41.386123",
     "exception": false,
     "start_time": "2021-04-25T12:31:41.357712",
     "status": "completed"
    },
    "tags": []
   },
   "outputs": [
    {
     "name": "stdout",
     "output_type": "stream",
     "text": [
      "{'n_epochs': 5, 'batch_size': 64, 'lr': 0.0002, 'b1': 0.5, 'b2': 0.999, 'n_cpu': 8, 'latent_dim': 100, 'img_size': 32, 'channels': 1, 'sample_interval': 400}\n"
     ]
    }
   ],
   "source": [
    "print(opt)"
   ]
  },
  {
   "cell_type": "code",
   "execution_count": 6,
   "id": "metric-drink",
   "metadata": {
    "execution": {
     "iopub.execute_input": "2021-04-25T12:31:41.960055Z",
     "iopub.status.busy": "2021-04-25T12:31:41.959088Z",
     "iopub.status.idle": "2021-04-25T12:31:41.963337Z",
     "shell.execute_reply": "2021-04-25T12:31:41.964105Z"
    },
    "papermill": {
     "duration": 0.55547,
     "end_time": "2021-04-25T12:31:41.964281",
     "exception": false,
     "start_time": "2021-04-25T12:31:41.408811",
     "status": "completed"
    },
    "tags": []
   },
   "outputs": [],
   "source": [
    "cuda = True if torch.cuda.is_available() else False"
   ]
  },
  {
   "cell_type": "code",
   "execution_count": 7,
   "id": "confidential-democrat",
   "metadata": {
    "execution": {
     "iopub.execute_input": "2021-04-25T12:31:42.043651Z",
     "iopub.status.busy": "2021-04-25T12:31:42.040945Z",
     "iopub.status.idle": "2021-04-25T12:31:42.047332Z",
     "shell.execute_reply": "2021-04-25T12:31:42.046293Z"
    },
    "papermill": {
     "duration": 0.047874,
     "end_time": "2021-04-25T12:31:42.047609",
     "exception": false,
     "start_time": "2021-04-25T12:31:41.999735",
     "status": "completed"
    },
    "tags": []
   },
   "outputs": [
    {
     "name": "stdout",
     "output_type": "stream",
     "text": [
      "True\n"
     ]
    }
   ],
   "source": [
    "print(cuda)"
   ]
  },
  {
   "cell_type": "markdown",
   "id": "recreational-gender",
   "metadata": {
    "papermill": {
     "duration": 0.03739,
     "end_time": "2021-04-25T12:31:42.123375",
     "exception": false,
     "start_time": "2021-04-25T12:31:42.085985",
     "status": "completed"
    },
    "tags": []
   },
   "source": [
    "# 3. Model"
   ]
  },
  {
   "cell_type": "markdown",
   "id": "stock-rhythm",
   "metadata": {
    "papermill": {
     "duration": 0.038081,
     "end_time": "2021-04-25T12:31:42.199880",
     "exception": false,
     "start_time": "2021-04-25T12:31:42.161799",
     "status": "completed"
    },
    "tags": []
   },
   "source": [
    "#### 3.1 Weights Init"
   ]
  },
  {
   "cell_type": "code",
   "execution_count": 8,
   "id": "considerable-alignment",
   "metadata": {
    "execution": {
     "iopub.execute_input": "2021-04-25T12:31:42.281454Z",
     "iopub.status.busy": "2021-04-25T12:31:42.280686Z",
     "iopub.status.idle": "2021-04-25T12:31:42.289159Z",
     "shell.execute_reply": "2021-04-25T12:31:42.288406Z"
    },
    "papermill": {
     "duration": 0.052349,
     "end_time": "2021-04-25T12:31:42.289331",
     "exception": false,
     "start_time": "2021-04-25T12:31:42.236982",
     "status": "completed"
    },
    "tags": []
   },
   "outputs": [],
   "source": [
    "def weights_init_normal(m):\n",
    "    classname = m.__class__.__name__\n",
    "    # Converusion layer 라면 normal distribusion (0.0, 0.02) 로 iniitalize\n",
    "    if classname.find(\"Conv\") != -1:\n",
    "        torch.nn.init.normal_(m.weight.data, 0.0, 0.02)\n",
    "    # BatchNorm2d layer 라면 normal distribusion (1.0, 0.02) 로 initialize\n",
    "    # and Bias term은 0 으로 initialize\n",
    "    elif classname.find(\"BatchNorm2d\") != -1:\n",
    "        torch.nn.init.normal_(m.weight.data, 1.0, 0.02)\n",
    "        torch.nn.init.constant_(m.bias.data, 0.0)"
   ]
  },
  {
   "cell_type": "markdown",
   "id": "caring-memorabilia",
   "metadata": {
    "papermill": {
     "duration": 0.037636,
     "end_time": "2021-04-25T12:31:42.373807",
     "exception": false,
     "start_time": "2021-04-25T12:31:42.336171",
     "status": "completed"
    },
    "tags": []
   },
   "source": [
    "#### 3.2 Generator Model"
   ]
  },
  {
   "cell_type": "code",
   "execution_count": 9,
   "id": "subjective-distance",
   "metadata": {
    "execution": {
     "iopub.execute_input": "2021-04-25T12:31:42.467095Z",
     "iopub.status.busy": "2021-04-25T12:31:42.466551Z",
     "iopub.status.idle": "2021-04-25T12:31:42.472261Z",
     "shell.execute_reply": "2021-04-25T12:31:42.471817Z"
    },
    "papermill": {
     "duration": 0.061981,
     "end_time": "2021-04-25T12:31:42.472363",
     "exception": false,
     "start_time": "2021-04-25T12:31:42.410382",
     "status": "completed"
    },
    "tags": []
   },
   "outputs": [
    {
     "data": {
      "text/plain": [
       "8.0"
      ]
     },
     "execution_count": 9,
     "metadata": {},
     "output_type": "execute_result"
    }
   ],
   "source": [
    "(8 + 2 * 1 - 1 * (3 - 1) - 1) / 1 + 1"
   ]
  },
  {
   "cell_type": "code",
   "execution_count": 10,
   "id": "empirical-estate",
   "metadata": {
    "execution": {
     "iopub.execute_input": "2021-04-25T12:31:42.531637Z",
     "iopub.status.busy": "2021-04-25T12:31:42.529961Z",
     "iopub.status.idle": "2021-04-25T12:31:42.532342Z",
     "shell.execute_reply": "2021-04-25T12:31:42.532758Z"
    },
    "papermill": {
     "duration": 0.036554,
     "end_time": "2021-04-25T12:31:42.532873",
     "exception": false,
     "start_time": "2021-04-25T12:31:42.496319",
     "status": "completed"
    },
    "tags": []
   },
   "outputs": [],
   "source": [
    "class Generator(nn.Module):\n",
    "    def __init__(self):\n",
    "        super(Generator, self).__init__()\n",
    "        \n",
    "        # 32 // 4 = 8\n",
    "        # 128 * 8 ** 2 = 8192\n",
    "        self.init_size = opt.img_size // 4\n",
    "        self.l1 = nn.Sequential(nn.Linear(opt.latent_dim, 128 * self.init_size ** 2))\n",
    "        \n",
    "        self.conv_blocks = nn.Sequential(nn.BatchNorm2d(128),\n",
    "                                         nn.Upsample(scale_factor = 2), # H, W * 2\n",
    "                                         # in channel : 128, out channel : 128\n",
    "                                         # kernel size : 3, stride = 1\n",
    "                                         # padding : 1\n",
    "                                         # h = (h + 2 * padding - dilation * (kernel size - 1) - 1) / stride + 1\n",
    "                                         ### ex. (8 + 2 * 1 - 1 * (3 - 1) - 1) / 1 + 1 = 8\n",
    "                                         nn.Conv2d(128, 128, 3, stride = 1, padding = 1),\n",
    "                                         nn.BatchNorm2d(128, 0.8),\n",
    "                                         nn.LeakyReLU(0.2, inplace = True),\n",
    "                                         nn.Upsample(scale_factor = 2),\n",
    "                                         nn.Conv2d(128, 64, 3, stride = 1, padding = 1),\n",
    "                                         nn.BatchNorm2d(64, 0.8),\n",
    "                                         nn.LeakyReLU(0.2, inplace = True),\n",
    "                                         nn.Conv2d(64, opt.channels, 3, stride = 1, padding = 1),\n",
    "                                         nn.Tanh()\n",
    "                                        )\n",
    "        \n",
    "    def forward(self, z):\n",
    "        out = self.l1(z)\n",
    "        # batch size * 128 channel * 8 * 8\n",
    "        out = out.view(out.shape[0], 128, self.init_size, self.init_size)\n",
    "        img = self.conv_blocks(out)\n",
    "        return img"
   ]
  },
  {
   "cell_type": "markdown",
   "id": "leading-radius",
   "metadata": {
    "papermill": {
     "duration": 0.023833,
     "end_time": "2021-04-25T12:31:42.581442",
     "exception": false,
     "start_time": "2021-04-25T12:31:42.557609",
     "status": "completed"
    },
    "tags": []
   },
   "source": [
    "#### 3.3 Discriminator"
   ]
  },
  {
   "cell_type": "code",
   "execution_count": 11,
   "id": "extreme-newcastle",
   "metadata": {
    "execution": {
     "iopub.execute_input": "2021-04-25T12:31:42.641386Z",
     "iopub.status.busy": "2021-04-25T12:31:42.640740Z",
     "iopub.status.idle": "2021-04-25T12:31:42.643366Z",
     "shell.execute_reply": "2021-04-25T12:31:42.643969Z"
    },
    "papermill": {
     "duration": 0.036554,
     "end_time": "2021-04-25T12:31:42.644105",
     "exception": false,
     "start_time": "2021-04-25T12:31:42.607551",
     "status": "completed"
    },
    "tags": []
   },
   "outputs": [],
   "source": [
    "class Discriminator(nn.Module):\n",
    "    def __init__(self):\n",
    "        super(Discriminator, self).__init__()\n",
    "        \n",
    "        def discriminator_block(in_filters, out_filters, bn = True):\n",
    "            block = [nn.Conv2d(in_filters, out_filters, 3, 2, 1),\n",
    "                     nn.LeakyReLU(0.2, inplace = True),\n",
    "                     nn.Dropout2d(0.25)]\n",
    "            if bn:\n",
    "                block.append(nn.BatchNorm2d(out_filters, 0.8))\n",
    "            return block\n",
    "        \n",
    "        self.model = nn.Sequential(*discriminator_block(opt.channels, 16, bn = False),\n",
    "                                   *discriminator_block(16, 32),\n",
    "                                   *discriminator_block(32, 64),\n",
    "                                   *discriminator_block(64,128)\n",
    "                                  )\n",
    "        \n",
    "        # The height and width of downsampled image\n",
    "        ds_size = opt.img_size // 2 ** 4\n",
    "        self.adv_layer = nn.Sequential(nn.Linear(128 * ds_size ** 2, 1),\n",
    "                                       nn.Sigmoid()\n",
    "                                      )\n",
    "        \n",
    "    def forward(self, img):\n",
    "        out = self.model(img)\n",
    "        out = out.view(out.shape[0], -1)\n",
    "        validity = self.adv_layer(out)\n",
    "        return validity"
   ]
  },
  {
   "cell_type": "markdown",
   "id": "former-polymer",
   "metadata": {
    "papermill": {
     "duration": 0.024165,
     "end_time": "2021-04-25T12:31:42.692505",
     "exception": false,
     "start_time": "2021-04-25T12:31:42.668340",
     "status": "completed"
    },
    "tags": []
   },
   "source": [
    "#### 3.4 Loss Function"
   ]
  },
  {
   "cell_type": "code",
   "execution_count": 12,
   "id": "minor-favor",
   "metadata": {
    "execution": {
     "iopub.execute_input": "2021-04-25T12:31:42.743485Z",
     "iopub.status.busy": "2021-04-25T12:31:42.742738Z",
     "iopub.status.idle": "2021-04-25T12:31:42.747066Z",
     "shell.execute_reply": "2021-04-25T12:31:42.746605Z"
    },
    "papermill": {
     "duration": 0.030507,
     "end_time": "2021-04-25T12:31:42.747172",
     "exception": false,
     "start_time": "2021-04-25T12:31:42.716665",
     "status": "completed"
    },
    "tags": []
   },
   "outputs": [],
   "source": [
    "adversarial_loss = torch.nn.BCELoss()"
   ]
  },
  {
   "cell_type": "markdown",
   "id": "large-league",
   "metadata": {
    "papermill": {
     "duration": 0.024223,
     "end_time": "2021-04-25T12:31:42.796212",
     "exception": false,
     "start_time": "2021-04-25T12:31:42.771989",
     "status": "completed"
    },
    "tags": []
   },
   "source": [
    "# 4. Data Loader and Model Training"
   ]
  },
  {
   "cell_type": "code",
   "execution_count": 13,
   "id": "corrected-fossil",
   "metadata": {
    "execution": {
     "iopub.execute_input": "2021-04-25T12:31:42.852796Z",
     "iopub.status.busy": "2021-04-25T12:31:42.852115Z",
     "iopub.status.idle": "2021-04-25T12:31:42.910459Z",
     "shell.execute_reply": "2021-04-25T12:31:42.909969Z"
    },
    "papermill": {
     "duration": 0.089968,
     "end_time": "2021-04-25T12:31:42.910566",
     "exception": false,
     "start_time": "2021-04-25T12:31:42.820598",
     "status": "completed"
    },
    "tags": []
   },
   "outputs": [],
   "source": [
    "# Initialize generator and discriminator\n",
    "generator = Generator()\n",
    "discriminator = Discriminator()"
   ]
  },
  {
   "cell_type": "code",
   "execution_count": 14,
   "id": "public-basic",
   "metadata": {
    "execution": {
     "iopub.execute_input": "2021-04-25T12:31:42.966262Z",
     "iopub.status.busy": "2021-04-25T12:31:42.965750Z",
     "iopub.status.idle": "2021-04-25T12:31:48.328003Z",
     "shell.execute_reply": "2021-04-25T12:31:48.327458Z"
    },
    "papermill": {
     "duration": 5.392033,
     "end_time": "2021-04-25T12:31:48.328132",
     "exception": false,
     "start_time": "2021-04-25T12:31:42.936099",
     "status": "completed"
    },
    "tags": []
   },
   "outputs": [],
   "source": [
    "if cuda:\n",
    "    generator.cuda()\n",
    "    discriminator.cuda()\n",
    "    adversarial_loss.cuda()"
   ]
  },
  {
   "cell_type": "code",
   "execution_count": 15,
   "id": "facial-helen",
   "metadata": {
    "execution": {
     "iopub.execute_input": "2021-04-25T12:31:48.381845Z",
     "iopub.status.busy": "2021-04-25T12:31:48.381244Z",
     "iopub.status.idle": "2021-04-25T12:31:48.389182Z",
     "shell.execute_reply": "2021-04-25T12:31:48.389546Z"
    },
    "papermill": {
     "duration": 0.036653,
     "end_time": "2021-04-25T12:31:48.389702",
     "exception": false,
     "start_time": "2021-04-25T12:31:48.353049",
     "status": "completed"
    },
    "tags": []
   },
   "outputs": [
    {
     "data": {
      "text/plain": [
       "Discriminator(\n",
       "  (model): Sequential(\n",
       "    (0): Conv2d(1, 16, kernel_size=(3, 3), stride=(2, 2), padding=(1, 1))\n",
       "    (1): LeakyReLU(negative_slope=0.2, inplace=True)\n",
       "    (2): Dropout2d(p=0.25, inplace=False)\n",
       "    (3): Conv2d(16, 32, kernel_size=(3, 3), stride=(2, 2), padding=(1, 1))\n",
       "    (4): LeakyReLU(negative_slope=0.2, inplace=True)\n",
       "    (5): Dropout2d(p=0.25, inplace=False)\n",
       "    (6): BatchNorm2d(32, eps=0.8, momentum=0.1, affine=True, track_running_stats=True)\n",
       "    (7): Conv2d(32, 64, kernel_size=(3, 3), stride=(2, 2), padding=(1, 1))\n",
       "    (8): LeakyReLU(negative_slope=0.2, inplace=True)\n",
       "    (9): Dropout2d(p=0.25, inplace=False)\n",
       "    (10): BatchNorm2d(64, eps=0.8, momentum=0.1, affine=True, track_running_stats=True)\n",
       "    (11): Conv2d(64, 128, kernel_size=(3, 3), stride=(2, 2), padding=(1, 1))\n",
       "    (12): LeakyReLU(negative_slope=0.2, inplace=True)\n",
       "    (13): Dropout2d(p=0.25, inplace=False)\n",
       "    (14): BatchNorm2d(128, eps=0.8, momentum=0.1, affine=True, track_running_stats=True)\n",
       "  )\n",
       "  (adv_layer): Sequential(\n",
       "    (0): Linear(in_features=512, out_features=1, bias=True)\n",
       "    (1): Sigmoid()\n",
       "  )\n",
       ")"
      ]
     },
     "execution_count": 15,
     "metadata": {},
     "output_type": "execute_result"
    }
   ],
   "source": [
    "# Initialize weights\n",
    "generator.apply(weights_init_normal)\n",
    "discriminator.apply(weights_init_normal)"
   ]
  },
  {
   "cell_type": "code",
   "execution_count": 16,
   "id": "different-wiring",
   "metadata": {
    "execution": {
     "iopub.execute_input": "2021-04-25T12:31:48.461143Z",
     "iopub.status.busy": "2021-04-25T12:31:48.441991Z",
     "iopub.status.idle": "2021-04-25T12:31:53.861937Z",
     "shell.execute_reply": "2021-04-25T12:31:53.862338Z"
    },
    "papermill": {
     "duration": 5.448422,
     "end_time": "2021-04-25T12:31:53.862495",
     "exception": false,
     "start_time": "2021-04-25T12:31:48.414073",
     "status": "completed"
    },
    "tags": []
   },
   "outputs": [
    {
     "name": "stdout",
     "output_type": "stream",
     "text": [
      "--2021-04-25 12:31:49--  http://www.di.ens.fr/~lelarge/MNIST.tar.gz\r\n",
      "Resolving www.di.ens.fr (www.di.ens.fr)... 129.199.99.14\r\n",
      "Connecting to www.di.ens.fr (www.di.ens.fr)|129.199.99.14|:80... connected.\r\n",
      "HTTP request sent, awaiting response... 302 Found\r\n",
      "Location: https://www.di.ens.fr/~lelarge/MNIST.tar.gz [following]\r\n",
      "--2021-04-25 12:31:49--  https://www.di.ens.fr/~lelarge/MNIST.tar.gz\r\n",
      "Connecting to www.di.ens.fr (www.di.ens.fr)|129.199.99.14|:443... connected.\r\n",
      "HTTP request sent, awaiting response... 200 OK\r\n",
      "Length: unspecified [application/x-gzip]\r\n",
      "Saving to: ‘MNIST.tar.gz’\r\n",
      "\r\n",
      "MNIST.tar.gz            [            <=>     ]  33.20M  14.3MB/s    in 2.3s    \r\n",
      "\r\n",
      "2021-04-25 12:31:52 (14.3 MB/s) - ‘MNIST.tar.gz’ saved [34813078]\r\n",
      "\r\n",
      "MNIST/\r\n",
      "MNIST/raw/\r\n",
      "MNIST/raw/train-labels-idx1-ubyte\r\n",
      "MNIST/raw/t10k-labels-idx1-ubyte.gz\r\n",
      "MNIST/raw/t10k-labels-idx1-ubyte\r\n",
      "MNIST/raw/t10k-images-idx3-ubyte.gz\r\n",
      "MNIST/raw/train-images-idx3-ubyte\r\n",
      "MNIST/raw/train-labels-idx1-ubyte.gz\r\n",
      "MNIST/raw/t10k-images-idx3-ubyte\r\n",
      "MNIST/raw/train-images-idx3-ubyte.gz\r\n",
      "MNIST/processed/\r\n",
      "MNIST/processed/training.pt\r\n",
      "MNIST/processed/test.pt\r\n"
     ]
    }
   ],
   "source": [
    "!wget www.di.ens.fr/~lelarge/MNIST.tar.gz\n",
    "!tar -zxvf MNIST.tar.gz"
   ]
  },
  {
   "cell_type": "code",
   "execution_count": 17,
   "id": "variable-nurse",
   "metadata": {
    "execution": {
     "iopub.execute_input": "2021-04-25T12:31:53.929557Z",
     "iopub.status.busy": "2021-04-25T12:31:53.929008Z",
     "iopub.status.idle": "2021-04-25T12:31:53.961255Z",
     "shell.execute_reply": "2021-04-25T12:31:53.960816Z"
    },
    "papermill": {
     "duration": 0.06801,
     "end_time": "2021-04-25T12:31:53.961373",
     "exception": false,
     "start_time": "2021-04-25T12:31:53.893363",
     "status": "completed"
    },
    "tags": []
   },
   "outputs": [],
   "source": [
    "# Condigure data loader\n",
    "os.makedirs(\"./\", exist_ok = True)\n",
    "dataloader = torch.utils.data.DataLoader(\n",
    "                datasets.MNIST(\n",
    "                    \"./\",\n",
    "                    train = True,\n",
    "                    download = True,\n",
    "                    transform = transforms.Compose(\n",
    "                        [transforms.Resize(opt.img_size), transforms.ToTensor(),\n",
    "                         transforms.Normalize([0.5], [0.5])]\n",
    "                    )\n",
    "                ),\n",
    "                batch_size = opt.batch_size,\n",
    "                shuffle = True\n",
    "            )"
   ]
  },
  {
   "cell_type": "code",
   "execution_count": 18,
   "id": "abroad-category",
   "metadata": {
    "execution": {
     "iopub.execute_input": "2021-04-25T12:31:54.027314Z",
     "iopub.status.busy": "2021-04-25T12:31:54.026628Z",
     "iopub.status.idle": "2021-04-25T12:31:54.028938Z",
     "shell.execute_reply": "2021-04-25T12:31:54.029373Z"
    },
    "papermill": {
     "duration": 0.037424,
     "end_time": "2021-04-25T12:31:54.029507",
     "exception": false,
     "start_time": "2021-04-25T12:31:53.992083",
     "status": "completed"
    },
    "tags": []
   },
   "outputs": [],
   "source": [
    "# Optimizers\n",
    "optimizer_G = torch.optim.Adam(generator.parameters(), lr = opt.lr, betas = (opt.b1, opt.b2))\n",
    "optimizer_D = torch.optim.Adam(discriminator.parameters(), lr = opt.lr, betas = (opt.b1, opt.b2))"
   ]
  },
  {
   "cell_type": "code",
   "execution_count": 19,
   "id": "raising-orleans",
   "metadata": {
    "execution": {
     "iopub.execute_input": "2021-04-25T12:31:54.094601Z",
     "iopub.status.busy": "2021-04-25T12:31:54.093891Z",
     "iopub.status.idle": "2021-04-25T12:31:54.096435Z",
     "shell.execute_reply": "2021-04-25T12:31:54.096047Z"
    },
    "papermill": {
     "duration": 0.036602,
     "end_time": "2021-04-25T12:31:54.096535",
     "exception": false,
     "start_time": "2021-04-25T12:31:54.059933",
     "status": "completed"
    },
    "tags": []
   },
   "outputs": [],
   "source": [
    "Tensor = torch.cuda.FloatTensor if cuda else torch.FloatTensor"
   ]
  },
  {
   "cell_type": "code",
   "execution_count": 20,
   "id": "addressed-employee",
   "metadata": {
    "collapsed": true,
    "execution": {
     "iopub.execute_input": "2021-04-25T12:31:54.169441Z",
     "iopub.status.busy": "2021-04-25T12:31:54.168938Z",
     "iopub.status.idle": "2021-04-25T12:34:35.532735Z",
     "shell.execute_reply": "2021-04-25T12:34:35.531827Z"
    },
    "jupyter": {
     "outputs_hidden": true
    },
    "papermill": {
     "duration": 161.406153,
     "end_time": "2021-04-25T12:34:35.532887",
     "exception": false,
     "start_time": "2021-04-25T12:31:54.126734",
     "status": "completed"
    },
    "tags": []
   },
   "outputs": [
    {
     "name": "stdout",
     "output_type": "stream",
     "text": [
      "[Epoch 0 / 5] [Batch 0 / 938] [D loss: 0.693127] [G loss: 0.700401]\n",
      "[Epoch 0 / 5] [Batch 20 / 938] [D loss: 0.689842] [G loss: 0.683918]\n",
      "[Epoch 0 / 5] [Batch 40 / 938] [D loss: 0.670543] [G loss: 0.701680]\n",
      "[Epoch 0 / 5] [Batch 60 / 938] [D loss: 0.692277] [G loss: 0.675986]\n",
      "[Epoch 0 / 5] [Batch 80 / 938] [D loss: 0.702693] [G loss: 0.684073]\n",
      "[Epoch 0 / 5] [Batch 100 / 938] [D loss: 0.683256] [G loss: 0.615288]\n",
      "[Epoch 0 / 5] [Batch 120 / 938] [D loss: 0.720044] [G loss: 0.670278]\n",
      "[Epoch 0 / 5] [Batch 140 / 938] [D loss: 0.694845] [G loss: 0.736051]\n",
      "[Epoch 0 / 5] [Batch 160 / 938] [D loss: 0.692259] [G loss: 0.662649]\n",
      "[Epoch 0 / 5] [Batch 180 / 938] [D loss: 0.695543] [G loss: 0.714690]\n",
      "[Epoch 0 / 5] [Batch 200 / 938] [D loss: 0.697406] [G loss: 0.693466]\n",
      "[Epoch 0 / 5] [Batch 220 / 938] [D loss: 0.694262] [G loss: 0.711601]\n",
      "[Epoch 0 / 5] [Batch 240 / 938] [D loss: 0.692228] [G loss: 0.708683]\n",
      "[Epoch 0 / 5] [Batch 260 / 938] [D loss: 0.696417] [G loss: 0.703158]\n",
      "[Epoch 0 / 5] [Batch 280 / 938] [D loss: 0.685304] [G loss: 0.690246]\n",
      "[Epoch 0 / 5] [Batch 300 / 938] [D loss: 0.691217] [G loss: 0.708846]\n",
      "[Epoch 0 / 5] [Batch 320 / 938] [D loss: 0.691703] [G loss: 0.711367]\n",
      "[Epoch 0 / 5] [Batch 340 / 938] [D loss: 0.686175] [G loss: 0.698770]\n",
      "[Epoch 0 / 5] [Batch 360 / 938] [D loss: 0.695846] [G loss: 0.701151]\n",
      "[Epoch 0 / 5] [Batch 380 / 938] [D loss: 0.681679] [G loss: 0.693302]\n",
      "[Epoch 0 / 5] [Batch 400 / 938] [D loss: 0.690025] [G loss: 0.712064]\n",
      "[Epoch 0 / 5] [Batch 420 / 938] [D loss: 0.699255] [G loss: 0.732136]\n",
      "[Epoch 0 / 5] [Batch 440 / 938] [D loss: 0.703641] [G loss: 0.678309]\n",
      "[Epoch 0 / 5] [Batch 460 / 938] [D loss: 0.683771] [G loss: 0.699876]\n",
      "[Epoch 0 / 5] [Batch 480 / 938] [D loss: 0.695297] [G loss: 0.705408]\n",
      "[Epoch 0 / 5] [Batch 500 / 938] [D loss: 0.689136] [G loss: 0.719141]\n",
      "[Epoch 0 / 5] [Batch 520 / 938] [D loss: 0.700590] [G loss: 0.691670]\n",
      "[Epoch 0 / 5] [Batch 540 / 938] [D loss: 0.693990] [G loss: 0.697789]\n",
      "[Epoch 0 / 5] [Batch 560 / 938] [D loss: 0.695129] [G loss: 0.693784]\n",
      "[Epoch 0 / 5] [Batch 580 / 938] [D loss: 0.697083] [G loss: 0.678686]\n",
      "[Epoch 0 / 5] [Batch 600 / 938] [D loss: 0.690591] [G loss: 0.681516]\n",
      "[Epoch 0 / 5] [Batch 620 / 938] [D loss: 0.686968] [G loss: 0.712286]\n",
      "[Epoch 0 / 5] [Batch 640 / 938] [D loss: 0.690938] [G loss: 0.696780]\n",
      "[Epoch 0 / 5] [Batch 660 / 938] [D loss: 0.685256] [G loss: 0.683144]\n",
      "[Epoch 0 / 5] [Batch 680 / 938] [D loss: 0.686051] [G loss: 0.707068]\n",
      "[Epoch 0 / 5] [Batch 700 / 938] [D loss: 0.686706] [G loss: 0.692418]\n",
      "[Epoch 0 / 5] [Batch 720 / 938] [D loss: 0.692021] [G loss: 0.689165]\n",
      "[Epoch 0 / 5] [Batch 740 / 938] [D loss: 0.686798] [G loss: 0.677296]\n",
      "[Epoch 0 / 5] [Batch 760 / 938] [D loss: 0.695710] [G loss: 0.747661]\n",
      "[Epoch 0 / 5] [Batch 780 / 938] [D loss: 0.700070] [G loss: 0.698128]\n",
      "[Epoch 0 / 5] [Batch 800 / 938] [D loss: 0.693714] [G loss: 0.664142]\n",
      "[Epoch 0 / 5] [Batch 820 / 938] [D loss: 0.703651] [G loss: 0.665386]\n",
      "[Epoch 0 / 5] [Batch 840 / 938] [D loss: 0.704215] [G loss: 0.684080]\n",
      "[Epoch 0 / 5] [Batch 860 / 938] [D loss: 0.676517] [G loss: 0.672394]\n",
      "[Epoch 0 / 5] [Batch 880 / 938] [D loss: 0.688058] [G loss: 0.699186]\n",
      "[Epoch 0 / 5] [Batch 900 / 938] [D loss: 0.698434] [G loss: 0.653584]\n",
      "[Epoch 0 / 5] [Batch 920 / 938] [D loss: 0.688514] [G loss: 0.674780]\n",
      "[Epoch 1 / 5] [Batch 0 / 938] [D loss: 0.691984] [G loss: 0.688849]\n",
      "[Epoch 1 / 5] [Batch 20 / 938] [D loss: 0.677983] [G loss: 0.703575]\n",
      "[Epoch 1 / 5] [Batch 40 / 938] [D loss: 0.700905] [G loss: 0.723866]\n",
      "[Epoch 1 / 5] [Batch 60 / 938] [D loss: 0.674316] [G loss: 0.699593]\n",
      "[Epoch 1 / 5] [Batch 80 / 938] [D loss: 0.678795] [G loss: 0.708178]\n",
      "[Epoch 1 / 5] [Batch 100 / 938] [D loss: 0.677853] [G loss: 0.722191]\n",
      "[Epoch 1 / 5] [Batch 120 / 938] [D loss: 0.671947] [G loss: 0.688581]\n",
      "[Epoch 1 / 5] [Batch 140 / 938] [D loss: 0.683306] [G loss: 0.738940]\n",
      "[Epoch 1 / 5] [Batch 160 / 938] [D loss: 0.704477] [G loss: 0.694627]\n",
      "[Epoch 1 / 5] [Batch 180 / 938] [D loss: 0.651466] [G loss: 0.724335]\n",
      "[Epoch 1 / 5] [Batch 200 / 938] [D loss: 0.674087] [G loss: 0.745554]\n",
      "[Epoch 1 / 5] [Batch 220 / 938] [D loss: 0.687931] [G loss: 0.688936]\n",
      "[Epoch 1 / 5] [Batch 240 / 938] [D loss: 0.675002] [G loss: 0.715026]\n",
      "[Epoch 1 / 5] [Batch 260 / 938] [D loss: 0.671095] [G loss: 0.665253]\n",
      "[Epoch 1 / 5] [Batch 280 / 938] [D loss: 0.663138] [G loss: 0.764548]\n",
      "[Epoch 1 / 5] [Batch 300 / 938] [D loss: 0.620681] [G loss: 0.791252]\n",
      "[Epoch 1 / 5] [Batch 320 / 938] [D loss: 0.680693] [G loss: 0.775232]\n",
      "[Epoch 1 / 5] [Batch 340 / 938] [D loss: 0.652542] [G loss: 0.686885]\n",
      "[Epoch 1 / 5] [Batch 360 / 938] [D loss: 0.657957] [G loss: 0.766380]\n",
      "[Epoch 1 / 5] [Batch 380 / 938] [D loss: 0.627095] [G loss: 0.736447]\n",
      "[Epoch 1 / 5] [Batch 400 / 938] [D loss: 0.682788] [G loss: 0.571568]\n",
      "[Epoch 1 / 5] [Batch 420 / 938] [D loss: 0.653938] [G loss: 0.795382]\n",
      "[Epoch 1 / 5] [Batch 440 / 938] [D loss: 0.637199] [G loss: 0.769078]\n",
      "[Epoch 1 / 5] [Batch 460 / 938] [D loss: 0.697937] [G loss: 0.662966]\n",
      "[Epoch 1 / 5] [Batch 480 / 938] [D loss: 0.630279] [G loss: 0.830286]\n",
      "[Epoch 1 / 5] [Batch 500 / 938] [D loss: 0.656697] [G loss: 0.705208]\n",
      "[Epoch 1 / 5] [Batch 520 / 938] [D loss: 0.609768] [G loss: 0.751567]\n",
      "[Epoch 1 / 5] [Batch 540 / 938] [D loss: 0.638175] [G loss: 0.737861]\n",
      "[Epoch 1 / 5] [Batch 560 / 938] [D loss: 0.641849] [G loss: 0.717501]\n",
      "[Epoch 1 / 5] [Batch 580 / 938] [D loss: 0.661592] [G loss: 0.748953]\n",
      "[Epoch 1 / 5] [Batch 600 / 938] [D loss: 0.626077] [G loss: 0.793298]\n",
      "[Epoch 1 / 5] [Batch 620 / 938] [D loss: 0.626799] [G loss: 0.665618]\n",
      "[Epoch 1 / 5] [Batch 640 / 938] [D loss: 0.664898] [G loss: 0.816991]\n",
      "[Epoch 1 / 5] [Batch 660 / 938] [D loss: 0.613335] [G loss: 0.803513]\n",
      "[Epoch 1 / 5] [Batch 680 / 938] [D loss: 0.599440] [G loss: 0.822505]\n",
      "[Epoch 1 / 5] [Batch 700 / 938] [D loss: 0.599376] [G loss: 0.742392]\n",
      "[Epoch 1 / 5] [Batch 720 / 938] [D loss: 0.676728] [G loss: 0.775530]\n",
      "[Epoch 1 / 5] [Batch 740 / 938] [D loss: 0.588752] [G loss: 0.768107]\n",
      "[Epoch 1 / 5] [Batch 760 / 938] [D loss: 0.681105] [G loss: 0.926244]\n",
      "[Epoch 1 / 5] [Batch 780 / 938] [D loss: 0.654890] [G loss: 0.802555]\n",
      "[Epoch 1 / 5] [Batch 800 / 938] [D loss: 0.590913] [G loss: 0.686630]\n",
      "[Epoch 1 / 5] [Batch 820 / 938] [D loss: 0.629237] [G loss: 0.708317]\n",
      "[Epoch 1 / 5] [Batch 840 / 938] [D loss: 0.653991] [G loss: 0.753296]\n",
      "[Epoch 1 / 5] [Batch 860 / 938] [D loss: 0.666606] [G loss: 0.898520]\n",
      "[Epoch 1 / 5] [Batch 880 / 938] [D loss: 0.663822] [G loss: 0.710339]\n",
      "[Epoch 1 / 5] [Batch 900 / 938] [D loss: 0.584078] [G loss: 0.774872]\n",
      "[Epoch 1 / 5] [Batch 920 / 938] [D loss: 0.695584] [G loss: 0.755574]\n",
      "[Epoch 2 / 5] [Batch 0 / 938] [D loss: 0.637679] [G loss: 0.791759]\n",
      "[Epoch 2 / 5] [Batch 20 / 938] [D loss: 0.656500] [G loss: 0.637289]\n",
      "[Epoch 2 / 5] [Batch 40 / 938] [D loss: 0.699476] [G loss: 0.891401]\n",
      "[Epoch 2 / 5] [Batch 60 / 938] [D loss: 0.623641] [G loss: 0.723921]\n",
      "[Epoch 2 / 5] [Batch 80 / 938] [D loss: 0.608224] [G loss: 0.907934]\n",
      "[Epoch 2 / 5] [Batch 100 / 938] [D loss: 0.651359] [G loss: 0.840006]\n",
      "[Epoch 2 / 5] [Batch 120 / 938] [D loss: 0.605183] [G loss: 0.789027]\n",
      "[Epoch 2 / 5] [Batch 140 / 938] [D loss: 0.644200] [G loss: 0.813282]\n",
      "[Epoch 2 / 5] [Batch 160 / 938] [D loss: 0.698537] [G loss: 0.943281]\n",
      "[Epoch 2 / 5] [Batch 180 / 938] [D loss: 0.598023] [G loss: 0.761621]\n",
      "[Epoch 2 / 5] [Batch 200 / 938] [D loss: 0.610388] [G loss: 0.774300]\n",
      "[Epoch 2 / 5] [Batch 220 / 938] [D loss: 0.670150] [G loss: 0.908829]\n",
      "[Epoch 2 / 5] [Batch 240 / 938] [D loss: 0.646264] [G loss: 0.836370]\n",
      "[Epoch 2 / 5] [Batch 260 / 938] [D loss: 0.602890] [G loss: 0.699029]\n",
      "[Epoch 2 / 5] [Batch 280 / 938] [D loss: 0.678483] [G loss: 0.769583]\n",
      "[Epoch 2 / 5] [Batch 300 / 938] [D loss: 0.698557] [G loss: 0.831941]\n",
      "[Epoch 2 / 5] [Batch 320 / 938] [D loss: 0.605736] [G loss: 0.765097]\n",
      "[Epoch 2 / 5] [Batch 340 / 938] [D loss: 0.710701] [G loss: 0.711579]\n",
      "[Epoch 2 / 5] [Batch 360 / 938] [D loss: 0.663626] [G loss: 0.778285]\n",
      "[Epoch 2 / 5] [Batch 380 / 938] [D loss: 0.689724] [G loss: 0.755492]\n",
      "[Epoch 2 / 5] [Batch 400 / 938] [D loss: 0.636415] [G loss: 0.741511]\n",
      "[Epoch 2 / 5] [Batch 420 / 938] [D loss: 0.595774] [G loss: 0.801202]\n",
      "[Epoch 2 / 5] [Batch 440 / 938] [D loss: 0.684288] [G loss: 0.625992]\n",
      "[Epoch 2 / 5] [Batch 460 / 938] [D loss: 0.555291] [G loss: 0.815873]\n",
      "[Epoch 2 / 5] [Batch 480 / 938] [D loss: 0.613175] [G loss: 0.865063]\n",
      "[Epoch 2 / 5] [Batch 500 / 938] [D loss: 0.628883] [G loss: 0.752571]\n",
      "[Epoch 2 / 5] [Batch 520 / 938] [D loss: 0.580065] [G loss: 0.771603]\n",
      "[Epoch 2 / 5] [Batch 540 / 938] [D loss: 0.697023] [G loss: 0.765003]\n",
      "[Epoch 2 / 5] [Batch 560 / 938] [D loss: 0.577671] [G loss: 0.897757]\n",
      "[Epoch 2 / 5] [Batch 580 / 938] [D loss: 0.691654] [G loss: 0.682068]\n",
      "[Epoch 2 / 5] [Batch 600 / 938] [D loss: 0.680117] [G loss: 0.770657]\n",
      "[Epoch 2 / 5] [Batch 620 / 938] [D loss: 0.618933] [G loss: 0.814251]\n",
      "[Epoch 2 / 5] [Batch 640 / 938] [D loss: 0.688091] [G loss: 0.632692]\n",
      "[Epoch 2 / 5] [Batch 660 / 938] [D loss: 0.605312] [G loss: 0.764846]\n",
      "[Epoch 2 / 5] [Batch 680 / 938] [D loss: 0.648320] [G loss: 1.037289]\n",
      "[Epoch 2 / 5] [Batch 700 / 938] [D loss: 0.680948] [G loss: 0.853266]\n",
      "[Epoch 2 / 5] [Batch 720 / 938] [D loss: 0.606584] [G loss: 0.748931]\n",
      "[Epoch 2 / 5] [Batch 740 / 938] [D loss: 0.626979] [G loss: 0.720482]\n",
      "[Epoch 2 / 5] [Batch 760 / 938] [D loss: 0.745184] [G loss: 0.748651]\n",
      "[Epoch 2 / 5] [Batch 780 / 938] [D loss: 0.679988] [G loss: 0.693287]\n",
      "[Epoch 2 / 5] [Batch 800 / 938] [D loss: 0.670782] [G loss: 0.740441]\n",
      "[Epoch 2 / 5] [Batch 820 / 938] [D loss: 0.692031] [G loss: 0.705811]\n",
      "[Epoch 2 / 5] [Batch 840 / 938] [D loss: 0.591900] [G loss: 0.836336]\n",
      "[Epoch 2 / 5] [Batch 860 / 938] [D loss: 0.677168] [G loss: 0.787922]\n",
      "[Epoch 2 / 5] [Batch 880 / 938] [D loss: 0.637357] [G loss: 0.874720]\n",
      "[Epoch 2 / 5] [Batch 900 / 938] [D loss: 0.642869] [G loss: 0.799373]\n",
      "[Epoch 2 / 5] [Batch 920 / 938] [D loss: 0.691748] [G loss: 0.950748]\n",
      "[Epoch 3 / 5] [Batch 0 / 938] [D loss: 0.604880] [G loss: 0.779238]\n",
      "[Epoch 3 / 5] [Batch 20 / 938] [D loss: 0.637472] [G loss: 0.748715]\n",
      "[Epoch 3 / 5] [Batch 40 / 938] [D loss: 0.608177] [G loss: 0.745966]\n",
      "[Epoch 3 / 5] [Batch 60 / 938] [D loss: 0.676038] [G loss: 0.840404]\n",
      "[Epoch 3 / 5] [Batch 80 / 938] [D loss: 0.637124] [G loss: 0.821485]\n",
      "[Epoch 3 / 5] [Batch 100 / 938] [D loss: 0.696666] [G loss: 0.959787]\n",
      "[Epoch 3 / 5] [Batch 120 / 938] [D loss: 0.640570] [G loss: 0.752308]\n",
      "[Epoch 3 / 5] [Batch 140 / 938] [D loss: 0.646196] [G loss: 0.913999]\n",
      "[Epoch 3 / 5] [Batch 160 / 938] [D loss: 0.620512] [G loss: 0.887718]\n",
      "[Epoch 3 / 5] [Batch 180 / 938] [D loss: 0.609257] [G loss: 0.876533]\n",
      "[Epoch 3 / 5] [Batch 200 / 938] [D loss: 0.635787] [G loss: 0.771117]\n",
      "[Epoch 3 / 5] [Batch 220 / 938] [D loss: 0.666106] [G loss: 0.858684]\n",
      "[Epoch 3 / 5] [Batch 240 / 938] [D loss: 0.656167] [G loss: 0.698020]\n",
      "[Epoch 3 / 5] [Batch 260 / 938] [D loss: 0.655553] [G loss: 0.670788]\n",
      "[Epoch 3 / 5] [Batch 280 / 938] [D loss: 0.648676] [G loss: 0.881014]\n",
      "[Epoch 3 / 5] [Batch 300 / 938] [D loss: 0.648309] [G loss: 0.908895]\n",
      "[Epoch 3 / 5] [Batch 320 / 938] [D loss: 0.665454] [G loss: 0.667770]\n",
      "[Epoch 3 / 5] [Batch 340 / 938] [D loss: 0.660071] [G loss: 0.827761]\n",
      "[Epoch 3 / 5] [Batch 360 / 938] [D loss: 0.732822] [G loss: 0.674679]\n",
      "[Epoch 3 / 5] [Batch 380 / 938] [D loss: 0.614204] [G loss: 0.849150]\n",
      "[Epoch 3 / 5] [Batch 400 / 938] [D loss: 0.651599] [G loss: 0.673807]\n",
      "[Epoch 3 / 5] [Batch 420 / 938] [D loss: 0.669969] [G loss: 0.764567]\n",
      "[Epoch 3 / 5] [Batch 440 / 938] [D loss: 0.669638] [G loss: 0.609691]\n",
      "[Epoch 3 / 5] [Batch 460 / 938] [D loss: 0.653176] [G loss: 0.850532]\n",
      "[Epoch 3 / 5] [Batch 480 / 938] [D loss: 0.641450] [G loss: 0.677598]\n",
      "[Epoch 3 / 5] [Batch 500 / 938] [D loss: 0.605312] [G loss: 0.586363]\n",
      "[Epoch 3 / 5] [Batch 520 / 938] [D loss: 0.688913] [G loss: 0.906273]\n",
      "[Epoch 3 / 5] [Batch 540 / 938] [D loss: 0.555378] [G loss: 0.810732]\n",
      "[Epoch 3 / 5] [Batch 560 / 938] [D loss: 0.565320] [G loss: 0.945267]\n",
      "[Epoch 3 / 5] [Batch 580 / 938] [D loss: 0.574672] [G loss: 0.734165]\n",
      "[Epoch 3 / 5] [Batch 600 / 938] [D loss: 0.619386] [G loss: 0.790134]\n",
      "[Epoch 3 / 5] [Batch 620 / 938] [D loss: 0.624975] [G loss: 0.771256]\n",
      "[Epoch 3 / 5] [Batch 640 / 938] [D loss: 0.648627] [G loss: 0.743089]\n",
      "[Epoch 3 / 5] [Batch 660 / 938] [D loss: 0.610550] [G loss: 0.742435]\n",
      "[Epoch 3 / 5] [Batch 680 / 938] [D loss: 0.674281] [G loss: 0.742844]\n",
      "[Epoch 3 / 5] [Batch 700 / 938] [D loss: 0.613680] [G loss: 0.764780]\n",
      "[Epoch 3 / 5] [Batch 720 / 938] [D loss: 0.613684] [G loss: 0.880436]\n",
      "[Epoch 3 / 5] [Batch 740 / 938] [D loss: 0.628494] [G loss: 0.849900]\n",
      "[Epoch 3 / 5] [Batch 760 / 938] [D loss: 0.641018] [G loss: 0.731990]\n",
      "[Epoch 3 / 5] [Batch 780 / 938] [D loss: 0.642608] [G loss: 0.836724]\n",
      "[Epoch 3 / 5] [Batch 800 / 938] [D loss: 0.640494] [G loss: 0.914459]\n",
      "[Epoch 3 / 5] [Batch 820 / 938] [D loss: 0.626572] [G loss: 0.846618]\n",
      "[Epoch 3 / 5] [Batch 840 / 938] [D loss: 0.717558] [G loss: 1.027843]\n",
      "[Epoch 3 / 5] [Batch 860 / 938] [D loss: 0.643995] [G loss: 0.794035]\n",
      "[Epoch 3 / 5] [Batch 880 / 938] [D loss: 0.590556] [G loss: 0.710821]\n",
      "[Epoch 3 / 5] [Batch 900 / 938] [D loss: 0.636314] [G loss: 0.812845]\n",
      "[Epoch 3 / 5] [Batch 920 / 938] [D loss: 0.538532] [G loss: 0.816221]\n",
      "[Epoch 4 / 5] [Batch 0 / 938] [D loss: 0.732491] [G loss: 0.797840]\n",
      "[Epoch 4 / 5] [Batch 20 / 938] [D loss: 0.602535] [G loss: 0.901168]\n",
      "[Epoch 4 / 5] [Batch 40 / 938] [D loss: 0.636263] [G loss: 0.851753]\n",
      "[Epoch 4 / 5] [Batch 60 / 938] [D loss: 0.642771] [G loss: 0.800292]\n",
      "[Epoch 4 / 5] [Batch 80 / 938] [D loss: 0.642533] [G loss: 1.020997]\n",
      "[Epoch 4 / 5] [Batch 100 / 938] [D loss: 0.596984] [G loss: 0.769722]\n",
      "[Epoch 4 / 5] [Batch 120 / 938] [D loss: 0.500163] [G loss: 0.854092]\n",
      "[Epoch 4 / 5] [Batch 140 / 938] [D loss: 0.639354] [G loss: 0.863626]\n",
      "[Epoch 4 / 5] [Batch 160 / 938] [D loss: 0.587896] [G loss: 0.913438]\n",
      "[Epoch 4 / 5] [Batch 180 / 938] [D loss: 0.605885] [G loss: 0.767657]\n",
      "[Epoch 4 / 5] [Batch 200 / 938] [D loss: 0.665764] [G loss: 0.749355]\n",
      "[Epoch 4 / 5] [Batch 220 / 938] [D loss: 0.603086] [G loss: 0.590773]\n",
      "[Epoch 4 / 5] [Batch 240 / 938] [D loss: 0.744228] [G loss: 0.686312]\n",
      "[Epoch 4 / 5] [Batch 260 / 938] [D loss: 0.644932] [G loss: 0.802931]\n",
      "[Epoch 4 / 5] [Batch 280 / 938] [D loss: 0.675466] [G loss: 0.660592]\n",
      "[Epoch 4 / 5] [Batch 300 / 938] [D loss: 0.665290] [G loss: 0.892889]\n",
      "[Epoch 4 / 5] [Batch 320 / 938] [D loss: 0.525115] [G loss: 0.859475]\n",
      "[Epoch 4 / 5] [Batch 340 / 938] [D loss: 0.614950] [G loss: 0.879996]\n",
      "[Epoch 4 / 5] [Batch 360 / 938] [D loss: 0.610088] [G loss: 0.915981]\n",
      "[Epoch 4 / 5] [Batch 380 / 938] [D loss: 0.649141] [G loss: 0.726202]\n",
      "[Epoch 4 / 5] [Batch 400 / 938] [D loss: 0.717956] [G loss: 0.599140]\n",
      "[Epoch 4 / 5] [Batch 420 / 938] [D loss: 0.615827] [G loss: 0.715856]\n",
      "[Epoch 4 / 5] [Batch 440 / 938] [D loss: 0.512119] [G loss: 0.777892]\n",
      "[Epoch 4 / 5] [Batch 460 / 938] [D loss: 0.660404] [G loss: 0.764798]\n",
      "[Epoch 4 / 5] [Batch 480 / 938] [D loss: 0.624091] [G loss: 0.929646]\n",
      "[Epoch 4 / 5] [Batch 500 / 938] [D loss: 0.659046] [G loss: 0.910303]\n",
      "[Epoch 4 / 5] [Batch 520 / 938] [D loss: 0.741941] [G loss: 0.561603]\n",
      "[Epoch 4 / 5] [Batch 540 / 938] [D loss: 0.750555] [G loss: 0.835789]\n",
      "[Epoch 4 / 5] [Batch 560 / 938] [D loss: 0.680946] [G loss: 0.926206]\n",
      "[Epoch 4 / 5] [Batch 580 / 938] [D loss: 0.591479] [G loss: 0.870395]\n",
      "[Epoch 4 / 5] [Batch 600 / 938] [D loss: 0.716974] [G loss: 0.899506]\n",
      "[Epoch 4 / 5] [Batch 620 / 938] [D loss: 0.556886] [G loss: 0.723013]\n",
      "[Epoch 4 / 5] [Batch 640 / 938] [D loss: 0.608845] [G loss: 0.869406]\n",
      "[Epoch 4 / 5] [Batch 660 / 938] [D loss: 0.632867] [G loss: 0.812950]\n",
      "[Epoch 4 / 5] [Batch 680 / 938] [D loss: 0.637989] [G loss: 0.870167]\n",
      "[Epoch 4 / 5] [Batch 700 / 938] [D loss: 0.676002] [G loss: 0.588860]\n",
      "[Epoch 4 / 5] [Batch 720 / 938] [D loss: 0.639390] [G loss: 0.911503]\n",
      "[Epoch 4 / 5] [Batch 740 / 938] [D loss: 0.627917] [G loss: 0.550059]\n",
      "[Epoch 4 / 5] [Batch 760 / 938] [D loss: 0.626968] [G loss: 0.953203]\n",
      "[Epoch 4 / 5] [Batch 780 / 938] [D loss: 0.644926] [G loss: 0.739796]\n",
      "[Epoch 4 / 5] [Batch 800 / 938] [D loss: 0.644296] [G loss: 0.941374]\n",
      "[Epoch 4 / 5] [Batch 820 / 938] [D loss: 0.587658] [G loss: 0.741505]\n",
      "[Epoch 4 / 5] [Batch 840 / 938] [D loss: 0.729159] [G loss: 0.810282]\n",
      "[Epoch 4 / 5] [Batch 860 / 938] [D loss: 0.516194] [G loss: 0.936463]\n",
      "[Epoch 4 / 5] [Batch 880 / 938] [D loss: 0.734424] [G loss: 0.837575]\n",
      "[Epoch 4 / 5] [Batch 900 / 938] [D loss: 0.537389] [G loss: 0.743563]\n",
      "[Epoch 4 / 5] [Batch 920 / 938] [D loss: 0.627461] [G loss: 0.911801]\n"
     ]
    }
   ],
   "source": [
    "# Training\n",
    "for epoch in range(opt.n_epochs):\n",
    "    for i, (imgs, _) in enumerate(dataloader):\n",
    "        # Adversarial ground truths\n",
    "        valid = Variable(Tensor(imgs.shape[0], 1).fill_(1.0), requires_grad = False)\n",
    "        fake = Variable(Tensor(imgs.shape[0], 1).fill_(0.0), requires_grad = False)\n",
    "        \n",
    "        # Configure input\n",
    "        real_imgs = Variable(imgs.type(Tensor))\n",
    "        \n",
    "        ###################\n",
    "        # Train Generator #\n",
    "        ###################\n",
    "        \n",
    "        optimizer_G.zero_grad()\n",
    "        \n",
    "        # Sample noise as generator input\n",
    "        z = Variable(Tensor(np.random.normal(0, 1, (imgs.shape[0], opt.latent_dim))))\n",
    "        \n",
    "        # Generator a batch of images\n",
    "        gen_imgs = generator(z)\n",
    "        \n",
    "        # Loss measures generator's ability to fool the discriminator\n",
    "        g_loss = adversarial_loss(discriminator(gen_imgs), valid)\n",
    "        \n",
    "        g_loss.backward()\n",
    "        optimizer_G.step()\n",
    "        \n",
    "        \n",
    "        #######################\n",
    "        # Train Discriminator #\n",
    "        #######################\n",
    "        \n",
    "        optimizer_D.zero_grad()\n",
    "        \n",
    "        # Measure discriminator's aility to classify real from generated samples\n",
    "        real_loss = adversarial_loss(discriminator(real_imgs), valid)\n",
    "        fake_loss = adversarial_loss(discriminator(gen_imgs.detach()), fake)\n",
    "        d_loss = (real_loss + fake_loss) / 2\n",
    "        \n",
    "        d_loss.backward()\n",
    "        optimizer_D.step()\n",
    "        \n",
    "        if i % 20 == 0:\n",
    "            print(\"[Epoch %d / %d] [Batch %d / %d] [D loss: %f] [G loss: %f]\"\n",
    "                  % (epoch, opt.n_epochs, i, len(dataloader), d_loss.item(), g_loss.item())\n",
    "                 )\n",
    "        \n",
    "        batches_done = epoch * len(dataloader) + i\n",
    "        if batches_done % opt.sample_interval == 0:\n",
    "            save_image(gen_imgs.data[:25], \"images/%d.png\" % batches_done, nrow = 5, normalize = True)"
   ]
  },
  {
   "cell_type": "code",
   "execution_count": null,
   "id": "printable-emphasis",
   "metadata": {
    "papermill": {
     "duration": 0.091581,
     "end_time": "2021-04-25T12:34:35.714916",
     "exception": false,
     "start_time": "2021-04-25T12:34:35.623335",
     "status": "completed"
    },
    "tags": []
   },
   "outputs": [],
   "source": []
  },
  {
   "cell_type": "code",
   "execution_count": null,
   "id": "royal-preparation",
   "metadata": {
    "papermill": {
     "duration": 0.090412,
     "end_time": "2021-04-25T12:34:35.894946",
     "exception": false,
     "start_time": "2021-04-25T12:34:35.804534",
     "status": "completed"
    },
    "tags": []
   },
   "outputs": [],
   "source": []
  },
  {
   "cell_type": "code",
   "execution_count": null,
   "id": "systematic-surveillance",
   "metadata": {
    "papermill": {
     "duration": 0.089551,
     "end_time": "2021-04-25T12:34:36.073332",
     "exception": false,
     "start_time": "2021-04-25T12:34:35.983781",
     "status": "completed"
    },
    "tags": []
   },
   "outputs": [],
   "source": []
  },
  {
   "cell_type": "code",
   "execution_count": null,
   "id": "finished-macro",
   "metadata": {
    "papermill": {
     "duration": 0.089521,
     "end_time": "2021-04-25T12:34:36.251769",
     "exception": false,
     "start_time": "2021-04-25T12:34:36.162248",
     "status": "completed"
    },
    "tags": []
   },
   "outputs": [],
   "source": []
  },
  {
   "cell_type": "code",
   "execution_count": null,
   "id": "floating-function",
   "metadata": {
    "papermill": {
     "duration": 0.091795,
     "end_time": "2021-04-25T12:34:36.434867",
     "exception": false,
     "start_time": "2021-04-25T12:34:36.343072",
     "status": "completed"
    },
    "tags": []
   },
   "outputs": [],
   "source": []
  },
  {
   "cell_type": "code",
   "execution_count": null,
   "id": "necessary-egypt",
   "metadata": {
    "papermill": {
     "duration": 0.089658,
     "end_time": "2021-04-25T12:34:36.614835",
     "exception": false,
     "start_time": "2021-04-25T12:34:36.525177",
     "status": "completed"
    },
    "tags": []
   },
   "outputs": [],
   "source": []
  },
  {
   "cell_type": "code",
   "execution_count": null,
   "id": "classified-liabilities",
   "metadata": {
    "papermill": {
     "duration": 0.091682,
     "end_time": "2021-04-25T12:34:36.796756",
     "exception": false,
     "start_time": "2021-04-25T12:34:36.705074",
     "status": "completed"
    },
    "tags": []
   },
   "outputs": [],
   "source": []
  }
 ],
 "metadata": {
  "kernelspec": {
   "display_name": "Python 3",
   "language": "python",
   "name": "python3"
  },
  "language_info": {
   "codemirror_mode": {
    "name": "ipython",
    "version": 3
   },
   "file_extension": ".py",
   "mimetype": "text/x-python",
   "name": "python",
   "nbconvert_exporter": "python",
   "pygments_lexer": "ipython3",
   "version": "3.7.10"
  },
  "papermill": {
   "default_parameters": {},
   "duration": 196.851636,
   "end_time": "2021-04-25T12:34:39.394170",
   "environment_variables": {},
   "exception": null,
   "input_path": "__notebook__.ipynb",
   "output_path": "__notebook__.ipynb",
   "parameters": {},
   "start_time": "2021-04-25T12:31:22.542534",
   "version": "2.3.3"
  }
 },
 "nbformat": 4,
 "nbformat_minor": 5
}
